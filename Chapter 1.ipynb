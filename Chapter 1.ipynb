{
 "cells": [
  {
   "cell_type": "markdown",
   "metadata": {},
   "source": [
    "# Applied Text Analysis with Python\n",
    "### by Benjamin Bengfort; Tony Ojeda; Rebecca Bilbro\n",
    "\n",
    "Chapter 1 covering language features"
   ]
  },
  {
   "cell_type": "code",
   "execution_count": 1,
   "metadata": {
    "ExecuteTime": {
     "end_time": "2021-01-06T15:59:03.685833Z",
     "start_time": "2021-01-06T15:58:57.479765Z"
    }
   },
   "outputs": [
    {
     "name": "stderr",
     "output_type": "stream",
     "text": [
      "[nltk_data] Downloading package punkt to\n",
      "[nltk_data]     C:\\Users\\albeadam\\AppData\\Roaming\\nltk_data...\n",
      "[nltk_data]   Package punkt is already up-to-date!\n"
     ]
    },
    {
     "data": {
      "text/plain": [
       "True"
      ]
     },
     "execution_count": 1,
     "metadata": {},
     "output_type": "execute_result"
    }
   ],
   "source": [
    "from collections import Counter\n",
    "import nltk\n",
    "\n",
    "nltk.download('punkt')"
   ]
  },
  {
   "cell_type": "code",
   "execution_count": 2,
   "metadata": {
    "ExecuteTime": {
     "end_time": "2021-01-06T15:48:34.465778Z",
     "start_time": "2021-01-06T15:48:34.411220Z"
    }
   },
   "outputs": [],
   "source": [
    "MALE = 'male'\n",
    "FEMALE = 'female'\n",
    "UNKNOWN = 'unknown'\n",
    "BOTH = 'both'\n",
    "\n",
    "MALE_WORDS = set([\n",
    "    'guy','spokesman','chairman',\"men's\",'men','him',\"he's\",'his',\n",
    "    'boy','boyfriend','boyfriends','boys','brother','brothers','dad',\n",
    "    'dads','dude','father','fathers','fiance','gentleman','gentlemen',\n",
    "    'god','grandfather','grandpa','grandson','groom','he','himself',\n",
    "    'husband','husbands','king','male','man','mr','nephew','nephews',\n",
    "    'priest','prince','son','sons','uncle','uncles','waiter','widower',\n",
    "    'widowers'\n",
    "])\n",
    "\n",
    "FEMALE_WORDS = set([\n",
    "    'heroine','spokeswoman','chairwoman',\"women's\",'actress','women',\n",
    "    \"she's\",'her','aunt','aunts','bride','daughter','daughters','female',\n",
    "    'fiancee','girl','girlfriend','girlfriends','girls','goddess',\n",
    "    'granddaughter','grandma','grandmother','herself','ladies','lady',\n",
    "    'lady','mom','moms','mother','mothers','mrs','ms','niece','nieces',\n",
    "    'priestess','princess','queens','she','sister','sisters','waitress',\n",
    "    'widow','widows','wife','wives','woman'\n",
    "])"
   ]
  },
  {
   "cell_type": "code",
   "execution_count": 3,
   "metadata": {
    "ExecuteTime": {
     "end_time": "2021-01-06T15:50:49.237534Z",
     "start_time": "2021-01-06T15:50:49.224528Z"
    }
   },
   "outputs": [],
   "source": [
    "def genderize(words):\n",
    "    \n",
    "    mwlen = len(MALE_WORDS.intersection(words))\n",
    "    fwlen = len(FEMALE_WORDS.intersection(words))\n",
    "    \n",
    "    if mwlen > 0 and fwlen == 0:\n",
    "        return MALE\n",
    "    elif mwlen == 0 and fwlen > 0:\n",
    "        return FEMALE\n",
    "    elif mwlen > 0 and fwlen > 0:\n",
    "        return BOTH\n",
    "    else:\n",
    "        return UNKNOWN"
   ]
  },
  {
   "cell_type": "code",
   "execution_count": 4,
   "metadata": {
    "ExecuteTime": {
     "end_time": "2021-01-06T15:52:33.037403Z",
     "start_time": "2021-01-06T15:52:33.025642Z"
    }
   },
   "outputs": [],
   "source": [
    "def count_gender(sentences):\n",
    "\n",
    "    sents = Counter()\n",
    "    words = Counter()\n",
    "\n",
    "    for sentence in sentences:\n",
    "        gender = genderize(sentence)\n",
    "        sents[gender] += 1\n",
    "        words[gender] += len(sentence)\n",
    "\n",
    "    return sents, words"
   ]
  },
  {
   "cell_type": "code",
   "execution_count": 5,
   "metadata": {
    "ExecuteTime": {
     "end_time": "2021-01-06T15:59:32.650692Z",
     "start_time": "2021-01-06T15:59:32.637695Z"
    }
   },
   "outputs": [],
   "source": [
    "def parse_gender(text):\n",
    "\n",
    "    sentences = [\n",
    "        [word.lower() for word in nltk.word_tokenize(sentence)]\n",
    "        for sentence in nltk.sent_tokenize(text)\n",
    "    ]\n",
    "\n",
    "    sents, words = count_gender(sentences)\n",
    "    total = sum(words.values())\n",
    "\n",
    "    for gender, count in words.items():\n",
    "        pcent = (count / total) * 100\n",
    "        nsents = sents[gender]\n",
    "\n",
    "        print(\"{} ({} sentences)\".format(pcent, gender, nsents))"
   ]
  },
  {
   "cell_type": "code",
   "execution_count": 6,
   "metadata": {
    "ExecuteTime": {
     "end_time": "2021-01-06T15:59:33.222187Z",
     "start_time": "2021-01-06T15:59:33.191547Z"
    }
   },
   "outputs": [],
   "source": [
    "# https://www.nytimes.com/live/2021/01/06/us/georgia-election-results\n",
    "\n",
    "article = \"\"\"Democrats inched closer to taking control of the Senate on Wednesday, winning one of the two Georgia seats up for grabs in a pair of runoff elections while the second contest remained too close to call.\n",
    "\n",
    "The Rev. Raphael Warnock, a Democrat and the pastor at the historic Ebenezer Baptist Church in Atlanta, defeated Senator Kelly Loeffler, a Republican, to become the first Black senator in Georgia history and the first Black Democrat to be elected to the Senate in the South.\n",
    "\n",
    "In the other contest, David Perdue, the Republican whose Senate term ended on Sunday, and his Democratic challenger, Jon Ossoff, were neck-and-neck, with thousands of votes still to be counted, many of them from Democratic-leaning areas.\n",
    "\n",
    "The Daily Poster\n",
    "Listen to ‘The Daily’: A Historic Night in Georgia\n",
    "\n",
    "As the results from two highly anticipated runoff elections roll in, control of the Senate appears to be within reach for the Democrats.\n",
    "\n",
    "Both political parties were on edge overnight given the extraordinary stakes, with President-elect Joseph R. Biden Jr.’s ability to enact much of his agenda hanging in the balance. If Democrats win both races, the party would hold 50 seats in the Senate and de facto control of the chamber, with Vice President-elect Kamala Harris serving as the tiebreaking vote and Senator Mitch McConnell relegated to becoming minority leader.\n",
    "\n",
    "The twin races drew record levels of campaign spending — roughly half a billion dollars in two months — and national attention, with President Trump and Mr. Biden both campaigning in the state on Monday.\n",
    "\n",
    "The remaining uncounted vote in Georgia appeared largely to be in Democratic-leaning counties in the Atlanta area, such as DeKalb and Fulton counties, as well as ballots from voters in the military and overseas. The focus on Wednesday morning is sure to be on those Atlanta-area counties and how they might affect the margins for Mr. Ossoff. The Democrats were winning overwhelming shares of votes in that region, especially of mail-in and votes that were cast early.\n",
    "\n",
    "“The outstanding vote is squarely in parts of the state where Jon’s performance has been dominant,” said Mr. Ossoff’s campaign manager Ellen Foster in a statement early Wednesday.\n",
    "\n",
    "The Perdue campaign issued a statement after 2 a.m. also predicting victory, while calling for “time and transparency.” The statement suggested that the campaign expected to soon fall behind in the balloting as it promised to “mobilize every available resource and exhaust every legal recourse to ensure all legally cast ballots are properly counted.”\n",
    "\n",
    "Democrats had ended Tuesday night with growing confidence, as the results showed both Mr. Warnock and Mr. Ossoff carrying a larger share of the vote in county after county than Mr. Biden did in November, when he became the first Democratic presidential candidate to win Georgia since 1992.\n",
    "\n",
    "“Spitballing here,” wrote Ron Klain, Mr. Biden’s incoming chief of staff, on Twitter, “but it may be that telling voters that you intend to ignore their verdict and overturn their votes from the November election was NOT a great closing argument for @KLoeffler.”\n",
    "\n",
    "He tagged Ms. Loeffler, who on the eve of the election had said she would side with Mr. Trump and his baseless claims of voter fraud in objecting to the certification of Mr. Biden’s victory.\n",
    "\n",
    "Ms. Loeffler spoke to supporters around midnight, before The Associated Press and other media outlets called the contest, and declined to concede.\n",
    "\n",
    "But Republicans were already indulging in some early recriminations.\n",
    "\n",
    "“Suburbs, my friends, the suburbs,” said Josh Holmes, a Republican strategist and former chief of staff to Mr. McConnell. “I feel like a one trick pony but here we are again. We went from talking about jobs and the economy to Qanon election conspiracies in 4 short years and — as it turns out — they were listening!”\n",
    "\n",
    "In Cobb County, a populous suburb outside of Atlanta, Mr. Perdue had only 44 percent of the vote, with most of the votes counted; in his first Senate race in 2014, he had carried that same county with more than 55 percent.\n",
    "\n",
    "Mr. Perdue and Ms. Loeffler had largely sought to nationalize the race, and raise the specter of complete Democratic control of Washington, portraying the party as dangerously radical. But that message was deeply complicated for Republicans by Mr. Trump’s insistence that he did not actually lose.\n",
    "\n",
    "In the end, about 95 percent of voters in both runoff races said that determining control of the Senate was a “major factor” in their vote, according to A.P. voter surveys, with about three in five calling it “the single most important factor.”\n",
    "A poll worker sorted absentee ballots in Atlanta on Tuesday.\n",
    "Credit...Lynsey Weatherspoon for The New York Times\n",
    "\n",
    "With control of the Senate hanging in the balance, and the contest still too close to call, the Democratic candidate Jon Ossoff widened his lead over his Republican challenger, David Perdue, to 17,025 votes.\n",
    "\n",
    "After trading leads deep into Tuesday evening, Mr. Ossoff pulled ahead of Mr. Perdue overnight by just 0.4 percent — within the range that could trigger a recount.\n",
    "\n",
    "Still, Mr. Ossoff, in a video message posted Wednesday morning, declared victory. (Major networks have not yet called the race.)\n",
    "\n",
    "“It is with humility that I thank the people of Georgia for electing me to serve you in the United States Senate,” Mr. Ossoff said. “Whether you were for me or against me, I’ll be for you in the U.S. Senate. I will serve all the people of the state.”\n",
    "\n",
    "If his lead holds, Mr. Ossoff, a 33-year-old documentary film executive, would become the youngest senator elected in 40 years. As of Wednesday morning, he was winning a larger share of the vote than President-elect Joseph R. Biden Jr. won in November, when the president-elect narrowly carried the state.\n",
    "\n",
    "Stacey Abrams, the Democratic activist and former candidate for Georgia, congratulated Mr. Ossoff. “Now Jon Ossoff will stand for all of Georgia in the fight for healthcare, jobs + justice,” she tweeted. “And our nation will be all the better for having him. Congratulations!”\n",
    "\n",
    "It could be several more hours before there is a call in the race, with thousands of late absentee and provisional ballots yet to be counted. Under Georgia law, a candidate can request a recount if the margin of victory is less than half a percentage point.\n",
    "\n",
    "On Wednesday morning, Gabriel Sterling, a top elections official in Georgia, said on CNN that about 65,000 ballots had yet to be counted.\n",
    "\n",
    "The majority of the remaining ballots to be counted came from DeKalb County, a heavily Democratic area that includes part of Atlanta.\n",
    "\n",
    "Mr. Sterling also said that he thought Mr. Ossoff was likely to maintain his lead based on where the outstanding votes remained. But it was unclear whether the race would be within the margin of a recount, he said.\n",
    "\n",
    "Democrats benefited from a strong turnout among Black voters. According to data compiled by georgiavotes.com, Black voters made up a larger share of early voters for the runoff — nearly 31 percent — than they did in the general election, when it was closer to 28 percent.\n",
    "\n",
    "Mr. Warnock, the pastor of Ebenezer Baptist Church in Atlanta, the spiritual home of the Rev. Dr. Martin Luther King Jr., was the first Black Democrat elected to the Senate from the South. He and Mr. Ossoff ran in tandem.\n",
    "\n",
    "Mr. Perdue, the former chief executive of Dollar General, and Ms. Loeffler, who was appointed to the Senate a year ago and was seeking a full term, had cast the race as a necessary check on Democratic power in Washington in 2021, though these efforts have been complicated by President Trump’s continued insistence, without evidence, that he won re-election.\n",
    "\n",
    "With both Democratic candidates in the lead in Georgia, the Nasdaq composite index opened around 1 percent lower on Wednesday on expectations that technology companies could be hurt by higher corporate taxes and stricter antitrust scrutiny.\n",
    "\n",
    "Wall Street’s investors see Democratic control of the Senate as leading to a large amount of deficit spending in the early days of the Biden administration, a potential boon to the still-struggling American economy.\n",
    "\n",
    "“We have to expect fiscal policy to be looser than if Republicans had kept their majority,” wrote Ian Shepherdson of Pantheon Macroeconomics in a research note. That could mean higher inflation, he added, which could be why U.S. Treasury bonds also saw selling pressure on Wednesday. The yield on 10-year Treasury notes climbed above 1 percent for the first time since March.\n",
    "\n",
    "The effect on stocks is more mixed, with diversified indexes like the Dow Jones Industrial Average and S&P 500 flat or up as the tech-heavy Nasdaq sank. Companies whose fortunes are linked closely to the overall economy would benefit from a bigger stimulus and infrastructure spending. Efforts to accelerate vaccination programs would also help industries that rely on in-person interactions get back in business.\n",
    "\n",
    "Analysts at Goldman Sachs also predicted “greater fiscal policy changes” under a Democratic Congress, focused mainly on stimulus but followed, eventually, by “a limited amount of tax increases.”\n",
    "The Rev. Raphael Warnock at an event in Atlanta on Tuesday.\n",
    "Credit...Lynsey Weatherspoon for The New York Times\n",
    "\n",
    "The Rev. Raphael Warnock, the first Black Democrat elected to the Senate from the South, promised Georgia voters early Wednesday that he would work on their behalf while staying true to his roots.\n",
    "\n",
    "“We were told that we couldn’t win this election,” said Mr. Warnock, who was declared the victor over the Republican incumbent, Kelly Loeffler, shortly after making his remarks. “But tonight, we proved that with hope, hard work and the people by our side, anything is possible.”\n",
    "\n",
    "Mr. Warnock, the 51- year-old pastor at the storied Ebenezer Baptist Church, marveled at his experience compared to that of his mother, who he said “used to pick somebody else’s cotton” as a teenager.\n",
    "\n",
    "“But the other day, because this is America, the 82-year-old hands that used to pick somebody else’s cotton went to the polls and picked her youngest son to be a United States senator,” he said.\n",
    "\n",
    "Mr. Warnock grew up in a housing project in Savannah, Ga., where he was the 11th of 12 siblings. Both his parents were pastors. He gave his own first sermon at the age of 11 and, after graduating from Morehouse College, went on to Union Theological Seminary in New York, where he also worked as a youth minister at the Abyssinian Baptist Church, where another preacher-turned-politician, Adam Clayton Powell Jr., once led.\n",
    "\n",
    "For more than 15 years, he has spoken from Ebenezer Baptist Church, once the home of the Rev. Dr. Martin Luther King Jr., preaching about politics from the church pulpit.\n",
    "\n",
    "He has said some of his sermons are designed to make people uncomfortable, urging Black churches to be more accepting of gay people and criticizing them for being “shamefully slow” to focus on gender inequality. In his book, “The Divided Mind of the Black Church,” he criticized white churches for being participants “in slavery, segregation and other manifestations of white supremacy.”\n",
    "\n",
    "Mr. Warnock, speaking before dawn on Wednesday, told voters that he was honored by the faith they had shown in him.\n",
    "\n",
    "“May my story be an inspiration to some young person who is trying to grasp and grab hold of the American dream.”\n",
    "Stacey Abrams in Atlanta on Tuesday. After losing her race for governor in 2018, she has led voter registration efforts in Georgia.\n",
    "Credit...Elijah Nouvelage/Reuters\n",
    "\n",
    "As Democrats inched closer to flipping both of Georgia’s Senate seats from the incumbent Republicans, credit began to flow to one person broadly acknowledged as being most responsible for Georgia’s new status as a Democratic state: Stacey Abrams.\n",
    "\n",
    "Ms. Abrams, the former minority leader of the Georgia state House, has spent a decade building a Democratic political infrastructure in the state, first with her New Georgia Project and now with Fair Fight, the voting rights organization she founded in the wake of her losing campaign for governor in 2018.\n",
    "\n",
    "Late Tuesday night, Ms. Abrams came close to declaring victory in a tweet that praised the thousands of “organizers, volunteers, canvassers & tireless groups” who helped rebuild the state’s Democratic Party from the rump it was when she became the state House minority leader in 2011.\n",
    "\n",
    "    With new votes joining the tally, we are on a strong path. But even while we wait for more, let’s celebrate the extraordinary organizers, volunteers, canvassers & tireless groups that haven’t stopped going since Nov. Across our state, we roared. A few miles to go...but well done!\n",
    "    — Stacey Abrams (@staceyabrams) January 6, 2021\n",
    "\n",
    "While Ms. Abrams is widely expected to run for governor again in 2022, she is at the moment one of the most influential American politicians not in elected office. It was her political infrastructure and strategy of increasing turnout among the state’s Black, Latino and Asian voters that laid the groundwork for both President-elect Joseph R. Biden Jr.’s victory in November and the Democrats’ performance in the Senate races.Ms. Abrams was not alone in Georgia, of course: Numerous other Black women have led a decades-long organizing effort to transform the state’s electorate.\n",
    "\n",
    "“We weren’t surprised that Georgia turned blue, because we’ve been working on it for over 15 years,” Deborah Scott, the founder of Georgia Stand Up, said after Mr. Biden’s victory in the general election.\n",
    "\n",
    "“It’s been an uphill battle,” said Felicia Davis, a longtime organizer in Clayton County. “Because here, we’re not just women, we’re Southern women. And we’re not just Southern women, we’re Southern Black women.”\n",
    "\n",
    "Still, Ms. Abrams was the most visible face at the forefront of the turnout push. And when it came time to cut a TV ad urging Georgians to confirm the status of their absentee ballots — voters have until Friday to cure absentee ballots that contain minor errors — she appeared in the ad reminding them how to do so.\n",
    "\n",
    "“Don’t wait,” she said. “Your vote has the power to determine the future of Georgia and our country. It’s time to make certain your voice is heard.”\n",
    "\n",
    "Washington girded for the final act of the Trump presidency on Wednesday, as President Trump, unwilling to acknowledge his loss to Joseph R. Biden Jr., threatened to transform a moment of Democratic triumph into a day of defiance and disruption by summoning his supporters to the Capitol.\n",
    "\n",
    "He was expected to make the short trip to the Ellipse behind the White House around 11 a.m. to deliver remarks to his die-hard supporters, who began streaming into Washington late Tuesday, with some engaging in a confrontation a few blocks from where Mr. Trump watched the results of the Georgia Senate runoff races.\n",
    "\n",
    "The House and the Senate are scheduled to convene beginning at 1 p.m. for a joint session to formalize Mr. Biden’s Electoral College victory. A handful of Trump allies have said they will challenge the results, objections that will force both chambers to take a formal vote on whether to accept or reject the results already certified by the states and a process that could stretch into the night.\n",
    "\n",
    "According to his aides, Mr. Trump watched from his residence in the White House on Tuesday night, as the Rev. Raphael Warnock and Jon Ossoff, both Democrats, pulled ahead in the high-stakes contests that would determine which political party would control the U.S. Senate. He also smarted over a report that Vice President Mike Pence had rebuffed his attempts to block the certification of President-elect Biden’s victory.\n",
    "\n",
    "Mr. Warnock overtook his opponent, Kelly Loeffler, by more than 53,000 votes, and Mr. Ossoff widened his lead over his challenger, David Perdue, though the contest remained too close to call on Wednesday morning.\n",
    "\n",
    "A victory by Mr. Ossoff would deliver Democrats control of both the House and the Senate, a staggering loss that many Republicans blame on Mr. Trump’s tardy and tepid efforts on behalf of the incumbent candidates as he instead focused on baseless claims of fraud to explain his loss to Mr. Biden.\n",
    "\n",
    "On Wednesday morning, Mr. Trump blamed the results in Georgia on state officials who “just happened to find 50,000 ballots,” a claim that Gabriel Sterling, a top election official with Georgia’s secretary of state’s office, dismissed.\n",
    "\n",
    "“They are not found ballots,” said Gabriel Sterling, a top election official in Georgia, on CNN. “They’re cast ballots.”'\"\"\"\n",
    "\n"
   ]
  },
  {
   "cell_type": "code",
   "execution_count": 14,
   "metadata": {
    "ExecuteTime": {
     "end_time": "2021-01-06T15:59:33.486830Z",
     "start_time": "2021-01-06T15:59:33.369902Z"
    }
   },
   "outputs": [
    {
     "name": "stdout",
     "output_type": "stream",
     "text": [
      "46.095238095238095 (unknown sentences)\n",
      "35.61904761904762 (male sentences)\n",
      "6.380952380952381 (both sentences)\n",
      "11.904761904761903 (female sentences)\n"
     ]
    }
   ],
   "source": [
    "parse_gender(article)"
   ]
  },
  {
   "cell_type": "code",
   "execution_count": null,
   "metadata": {},
   "outputs": [],
   "source": []
  }
 ],
 "metadata": {
  "kernelspec": {
   "display_name": "Python 3",
   "language": "python",
   "name": "python3"
  },
  "language_info": {
   "codemirror_mode": {
    "name": "ipython",
    "version": 3
   },
   "file_extension": ".py",
   "mimetype": "text/x-python",
   "name": "python",
   "nbconvert_exporter": "python",
   "pygments_lexer": "ipython3",
   "version": "3.9.2"
  }
 },
 "nbformat": 4,
 "nbformat_minor": 4
}
